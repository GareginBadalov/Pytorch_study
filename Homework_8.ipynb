{
  "nbformat": 4,
  "nbformat_minor": 0,
  "metadata": {
    "colab": {
      "name": "Homework_8.ipynb",
      "provenance": []
    },
    "kernelspec": {
      "name": "python3",
      "display_name": "Python 3"
    },
    "language_info": {
      "name": "python"
    },
    "accelerator": "GPU",
    "gpuClass": "standard"
  },
  "cells": [
    {
      "cell_type": "code",
      "execution_count": 1,
      "metadata": {
        "id": "ESvHVK35PM7a"
      },
      "outputs": [],
      "source": [
        "import os\n",
        "import numpy as np\n",
        "import pandas as pd\n",
        "import math\n",
        "\n",
        "from torch.utils.data import DataLoader\n",
        "import torchvision.transforms as transforms\n",
        "from torchvision import datasets\n",
        "from torch.autograd import Variable\n",
        "\n",
        "import torch.nn as nn\n",
        "import torch\n",
        "\n",
        "import matplotlib.pyplot as plt\n",
        "from IPython import display\n",
        "from torchvision.utils import save_image, make_grid"
      ]
    },
    {
      "cell_type": "code",
      "source": [
        "device = 'cuda' if torch.cuda.is_available() else 'cpu'\n",
        "device"
      ],
      "metadata": {
        "colab": {
          "base_uri": "https://localhost:8080/",
          "height": 35
        },
        "id": "eIulhI0hPSS7",
        "outputId": "54db4ca5-2108-4127-cf7a-dd3a7465bb4b"
      },
      "execution_count": 2,
      "outputs": [
        {
          "output_type": "execute_result",
          "data": {
            "text/plain": [
              "'cuda'"
            ],
            "application/vnd.google.colaboratory.intrinsic+json": {
              "type": "string"
            }
          },
          "metadata": {},
          "execution_count": 2
        }
      ]
    },
    {
      "cell_type": "code",
      "source": [
        "df = pd.DataFrame(np.linspace(-20, 20, 8192), columns=['x'])\n",
        "df['y'] = np.sin(df['x']) / df['x'] - (df['x'] / 10)\n",
        "plt.plot(df['x'], df['y'], '.')"
      ],
      "metadata": {
        "colab": {
          "base_uri": "https://localhost:8080/",
          "height": 282
        },
        "id": "rUdCAkNCPjib",
        "outputId": "c8900b6c-2246-4a67-bc75-ea82c26d497c"
      },
      "execution_count": 3,
      "outputs": [
        {
          "output_type": "execute_result",
          "data": {
            "text/plain": [
              "[<matplotlib.lines.Line2D at 0x7f9aa879be90>]"
            ]
          },
          "metadata": {},
          "execution_count": 3
        },
        {
          "output_type": "display_data",
          "data": {
            "text/plain": [
              "<Figure size 432x288 with 1 Axes>"
            ],
            "image/png": "[encoded data removed]"
          },
          "metadata": {
            "needs_background": "light"
          }
        }
      ]
    },
    {
      "cell_type": "code",
      "source": [
        "n_epochs = 100  \n",
        "lr = 0.0005    \n",
        "\n",
        "b1 = 0.05        \n",
        "b2 = 0.999     \n",
        "\n",
        "latent_dim = 1000    \n",
        "\n",
        "sample_interval = 100 \n"
      ],
      "metadata": {
        "id": "adcIS1fFhZtI"
      },
      "execution_count": 4,
      "outputs": []
    },
    {
      "cell_type": "code",
      "source": [
        "batch_size = 32\n",
        "real_data = torch.utils.data.DataLoader(\n",
        "    df.to_numpy(),\n",
        "    batch_size=batch_size,\n",
        "    shuffle=True)\n",
        "\n",
        "real_data"
      ],
      "metadata": {
        "colab": {
          "base_uri": "https://localhost:8080/"
        },
        "id": "M8xDLKMWQSbB",
        "outputId": "6a1ca2c9-81bb-4609-fe93-f4413e787369"
      },
      "execution_count": 5,
      "outputs": [
        {
          "output_type": "execute_result",
          "data": {
            "text/plain": [
              "<torch.utils.data.dataloader.DataLoader at 0x7f9aa87ae790>"
            ]
          },
          "metadata": {},
          "execution_count": 5
        }
      ]
    },
    {
      "cell_type": "code",
      "source": [
        ""
      ],
      "metadata": {
        "id": "PbC7VZcMQaWs"
      },
      "execution_count": 5,
      "outputs": []
    },
    {
      "cell_type": "code",
      "source": [
        "\n",
        "class Generator(nn.Module):\n",
        "    def __init__(self):\n",
        "        super().__init__()\n",
        "        self.activations = nn.ModuleDict([\n",
        "            ['lrelu', nn.LeakyReLU(0.2, inplace=True)],\n",
        "            ['relu', nn.ReLU()]\n",
        "        ])\n",
        "        def block(in_feat, out_feat, normalize=True, activation='relu'):\n",
        "            layers = [nn.Linear(in_feat, out_feat)]  \n",
        "            if normalize:\n",
        "                layers.append(nn.BatchNorm1d(out_feat))\n",
        "            layers.append(self.activations[activation])  # Эта строчка означает \n",
        "            \n",
        "            return layers\n",
        "\n",
        "        self.model = nn.Sequential(\n",
        "            *block(latent_dim, 128, normalize=False), \n",
        "            *block(128, 256, activation='lrelu'),\n",
        "            *block(256, 512),\n",
        "            *block(512, 1024),\n",
        "            nn.Linear(1024, 2),\n",
        "        )\n",
        "        \n",
        "    def forward(self, z):\n",
        "        num = self.model(z)\n",
        "        return num"
      ],
      "metadata": {
        "id": "dG5P0lBWQo6x"
      },
      "execution_count": 6,
      "outputs": []
    },
    {
      "cell_type": "code",
      "source": [
        "class CustomLinearLayer(nn.Module):\n",
        "    def __init__(self, size_in, size_out):\n",
        "        super().__init__()\n",
        "        self.size_in, self.size_out = size_in, size_out\n",
        "        \n",
        "        weights = torch.Tensor(size_out, size_in)\n",
        "        self.weights = nn.Parameter(weights) \n",
        "\n",
        "        bias = torch.Tensor(size_out)\n",
        "        self.bias = nn.Parameter(bias)\n",
        "        \n",
        "        nn.init.uniform_(self.weights, -0.5, 0.5) \n",
        "        nn.init.uniform_(self.bias, -0.5, 0.5)  \n",
        "\n",
        "    def forward(self, x):\n",
        "        w_times_x = torch.mm(x, self.weights.t())\n",
        "        return torch.add(w_times_x, self.bias)\n",
        "\n",
        "\n",
        "class Discriminator(nn.Module):\n",
        "    def __init__(self):\n",
        "        super().__init__()\n",
        "\n",
        "        self.model = nn.Sequential(\n",
        "            CustomLinearLayer(2, 512),\n",
        "            nn.LeakyReLU(0.2, inplace=True),\n",
        "            CustomLinearLayer(512, 256),\n",
        "            nn.LeakyReLU(0.2, inplace=True),\n",
        "            CustomLinearLayer(256, 1),\n",
        "            nn.Sigmoid(),\n",
        "        )\n",
        "\n",
        "    def forward(self, pred):\n",
        "        validity = self.model(pred)\n",
        "        return validity"
      ],
      "metadata": {
        "id": "0321yDzXQqID"
      },
      "execution_count": 7,
      "outputs": []
    },
    {
      "cell_type": "code",
      "source": [
        "generator = Generator().to(device)\n",
        "discriminator = Discriminator().to(device)\n",
        "\n",
        "optimizer_G = torch.optim.Adam(generator.parameters(), lr=lr, betas=(b1, b2))\n",
        "optimizer_D = torch.optim.Adam(discriminator.parameters(), lr=lr, betas=(b1, b2))\n",
        "\n",
        "adversarial_loss = torch.nn.BCELoss()"
      ],
      "metadata": {
        "id": "u-mLjrItQr-f"
      },
      "execution_count": 8,
      "outputs": []
    },
    {
      "cell_type": "code",
      "source": [
        "d_loss_history = []\n",
        "g_loss_history = []"
      ],
      "metadata": {
        "id": "9-j9Dyt4Qtdl"
      },
      "execution_count": 9,
      "outputs": []
    },
    {
      "cell_type": "code",
      "source": [
        "import matplotlib.patches as mpatches\n",
        "\n",
        "for epoch in range(n_epochs):\n",
        "    for i, data in enumerate(real_data):\n",
        "      current_bs = len(data)\n",
        "##################### Лейблы для данных: 1 - настоящие, 0 - сгенерированные ########\n",
        "          \n",
        "      valid = torch.FloatTensor(current_bs, 1).fill_(1.0).to(device)\n",
        "      # ложные значения\n",
        "      fake = torch.FloatTensor(current_bs, 1).fill_(0.0).to(device)\n",
        "\n",
        "      # генерация шума (нормальное распределение тут не подойдёт)\n",
        "      z = Variable(torch.FloatTensor(np.random.uniform(-50, 50, (current_bs, latent_dim)))).to(device)\n",
        "      \n",
        "      # реальные значения перекладываем на устройство\n",
        "      real_ex = Variable(data.type(torch.FloatTensor)).to(device)\n",
        "\n",
        "      # Генерируем данные Генератором на основе шума\n",
        "      gen_data = generator(z)\n",
        "        \n",
        "######################  Тренировка дискриминатора    ##########################\n",
        "        \n",
        "      # Получаем предсказания дискриминатора на основе реальных данных\n",
        "      real_pred = discriminator(real_ex)\n",
        "      \n",
        "      # Тут сравниваем предсказанные значения Дискриминатора(на основе настоящих данных) с настоящими\n",
        "      d_real_loss = adversarial_loss(real_pred, valid)\n",
        "      \n",
        "      # Подаем сгенерированые данные на Дискриминатор \n",
        "      fake_pred = discriminator(gen_data)\n",
        "      \n",
        "      # расчитываем ошибку предсказанного с фейковыми лейблами\n",
        "      d_fake_loss = adversarial_loss(fake_pred, fake)\n",
        "      \n",
        "      # И усредняем два лосса в один\n",
        "      d_loss = (d_real_loss + d_fake_loss) / 2\n",
        "\n",
        "      optimizer_D.zero_grad()\n",
        "      d_loss.backward()\n",
        "      optimizer_D.step()\n",
        "\n",
        "######################  Тренировка генератора    ##########################\n",
        "        \n",
        "        # генерация шума\n",
        "      z = torch.FloatTensor(np.random.normal(0, 1, (batch_size, latent_dim))).to(device)\n",
        "      \n",
        "      # Генерируем данные Генератором на основе шума\n",
        "      gen_points = generator(z)\n",
        "\n",
        "      # Подаем сгенерированые данные на Дискриминатор \n",
        "      fake_pred = discriminator(gen_points)\n",
        "  \n",
        "      # Тут сравниваем предсказанные значения Дискриминатора (на основе сгенерировнных данных) с настоящими\n",
        "      g_loss = adversarial_loss(fake_pred, valid)\n",
        "      \n",
        "      # Делаем шаг обучения нашего Генератора\n",
        "      optimizer_G.zero_grad()\n",
        "      g_loss.backward()\n",
        "      optimizer_G.step()\n",
        "\n",
        "        \n",
        "######## Отображение процесса обучения и вывод функций потерь ############\n",
        "      batches_done = epoch * len(real_data) + i\n",
        "  \n",
        "      if batches_done % sample_interval == 0:\n",
        "          with torch.no_grad():\n",
        "              plt.clf()\n",
        "\n",
        "              display.clear_output(wait=False)\n",
        "\n",
        "              generated_samples = gen_points.detach().cpu()\n",
        "              plt.plot(generated_samples[:, 0], generated_samples[:, 1], \".\")\n",
        "\n",
        "              print(f\"[Epoch {epoch}/{n_epochs}] [Batch {i}/{len(real_data)}]\", end='|')\n",
        "              print(f'[D loss: {d_loss.item()}] [G loss: {g_loss.item()}]') \n",
        "\n",
        "\n",
        "              # display.display(plt.gcf())\n",
        "              plt.show()\n",
        "              d_loss = d_loss.cpu().detach()\n",
        "              g_loss = g_loss.cpu().detach()\n",
        "\n",
        "\n",
        "              d_loss_history.append(d_loss)\n",
        "              g_loss_history.append(g_loss)\n",
        "\n",
        "              plt.plot(np.array(d_loss_history), label='D loss')\n",
        "              plt.plot(np.array(g_loss_history), label='G loss')\n",
        "              plt.legend()\n",
        "              plt.show()     "
      ],
      "metadata": {
        "colab": {
          "base_uri": "https://localhost:8080/",
          "height": 532
        },
        "id": "97GJ5CYXQvrx",
        "outputId": "eee1de16-9876-423a-9f4e-bed031ea617d"
      },
      "execution_count": 10,
      "outputs": [
        {
          "output_type": "stream",
          "name": "stdout",
          "text": [
            "[Epoch 99/100] [Batch 156/256]|[D loss: 0.8451364040374756] [G loss: 0.9113823175430298]\n"
          ]
        },
        {
          "output_type": "display_data",
          "data": {
            "text/plain": [
              "<Figure size 432x288 with 1 Axes>"
            ],
            "image/png": "[encoded data removed]"
          },
          "metadata": {
            "needs_background": "light"
          }
        },
        {
          "output_type": "display_data",
          "data": {
            "text/plain": [
              "<Figure size 432x288 with 1 Axes>"
            ],
            "image/png": "[encoded data removed]"
          },
          "metadata": {
            "needs_background": "light"
          }
        }
      ]
    }
  ]
}