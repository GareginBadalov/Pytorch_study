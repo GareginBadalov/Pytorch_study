{
 "cells": [
  {
   "cell_type": "code",
   "execution_count": 1,
   "metadata": {},
   "outputs": [],
   "source": [
    "import torch"
   ]
  },
  {
   "cell_type": "code",
   "execution_count": 2,
   "metadata": {},
   "outputs": [
    {
     "name": "stdout",
     "output_type": "stream",
     "text": [
      "tensor([[[-0.2925,  0.8273, -1.0293, -0.2522, -0.8692],\n",
      "         [-0.1347, -0.8102,  1.3464, -1.1967,  0.5139],\n",
      "         [-0.3911, -1.0677, -0.8319,  1.9990,  0.7311],\n",
      "         [-1.3784, -1.7994,  0.0612,  0.1795, -1.9727]],\n",
      "\n",
      "        [[ 0.0370, -1.8862,  1.8931,  0.7496,  0.9911],\n",
      "         [-0.1871, -0.3943,  0.1807,  0.4157, -0.5173],\n",
      "         [ 2.4408, -0.0739, -0.3825,  0.7036, -0.5976],\n",
      "         [-0.0295,  0.0303, -1.0970,  2.0049,  0.2842]],\n",
      "\n",
      "        [[ 0.2296, -1.2521,  2.3291,  0.2981, -2.8488],\n",
      "         [ 0.5076, -0.6543, -1.0728, -1.5639,  1.1896],\n",
      "         [-0.8162,  1.4279, -0.3019, -1.3010,  0.0511],\n",
      "         [-2.1337,  0.9105,  1.7968, -0.3464,  0.1220]]])\n"
     ]
    }
   ],
   "source": [
    "# 1. Создайте случайный FloatTensor размера 3x4x5\n",
    "my_tensor = torch.randn(3, 4, 5)\n",
    "print(my_tensor)"
   ]
  },
  {
   "cell_type": "code",
   "execution_count": 3,
   "metadata": {},
   "outputs": [
    {
     "name": "stdout",
     "output_type": "stream",
     "text": [
      "torch.Size([3, 4, 5])\n"
     ]
    }
   ],
   "source": [
    "# 2. Выведите его форму (shape)\n",
    "print(my_tensor.shape)"
   ]
  },
  {
   "cell_type": "code",
   "execution_count": 4,
   "metadata": {},
   "outputs": [
    {
     "data": {
      "text/plain": [
       "torch.Size([6, 10])"
      ]
     },
     "execution_count": 4,
     "metadata": {},
     "output_type": "execute_result"
    }
   ],
   "source": [
    "# 3. Приведите его к форме 6х10\n",
    "my_tensor = my_tensor.reshape(6, 10)\n",
    "my_tensor.shape"
   ]
  },
  {
   "cell_type": "code",
   "execution_count": 5,
   "metadata": {},
   "outputs": [
    {
     "data": {
      "text/plain": [
       "tensor([-1.0748, -0.9086, -2.6661,  0.7683,  0.8718,  0.6962,  0.3535, -0.9959,\n",
       "        -0.6603,  0.1383])"
      ]
     },
     "execution_count": 5,
     "metadata": {},
     "output_type": "execute_result"
    }
   ],
   "source": [
    "# 4. Создайте случайный IntTensor размера 10\n",
    "my_int_tensor = torch.randn(10)\n",
    "my_int_tensor"
   ]
  },
  {
   "cell_type": "code",
   "execution_count": 6,
   "metadata": {},
   "outputs": [
    {
     "data": {
      "text/plain": [
       "tensor([[ 0.3144, -0.7517,  2.7441, -0.1938, -0.7578, -0.0938, -0.2864, -1.3408,\n",
       "          0.7902,  0.0711],\n",
       "        [ 0.4204,  0.9702,  2.2179,  1.5359,  0.6374, -0.9596, -0.6361, -0.0610,\n",
       "         -0.1185, -0.2728],\n",
       "        [-0.0398,  1.7139, -5.0470,  0.5759,  0.8640, -0.1302, -0.1394, -0.1799,\n",
       "         -0.2745, -0.0715],\n",
       "        [-2.6235,  0.0671,  1.0197,  0.5406, -0.5210, -0.0205,  0.0107,  1.0925,\n",
       "         -1.3238,  0.0393],\n",
       "        [-0.2467,  1.1377, -6.2094,  0.2290, -2.4837,  0.3534, -0.2313,  1.0683,\n",
       "          1.0326,  0.1645],\n",
       "        [ 0.8773, -1.2975,  0.8049, -0.9996,  0.0445, -1.4854,  0.3219, -1.7894,\n",
       "          0.2287,  0.0169]])"
      ]
     },
     "execution_count": 6,
     "metadata": {},
     "output_type": "execute_result"
    }
   ],
   "source": [
    "# 5. Умножьте созданный FloatTensor на созданный IntTensor поэлементно\n",
    "my_tensor = my_tensor * my_int_tensor\n",
    "my_tensor"
   ]
  },
  {
   "cell_type": "code",
   "execution_count": 7,
   "metadata": {},
   "outputs": [
    {
     "data": {
      "text/plain": [
       "torch.Size([6, 10])"
      ]
     },
     "execution_count": 7,
     "metadata": {},
     "output_type": "execute_result"
    }
   ],
   "source": [
    "my_tensor.shape"
   ]
  },
  {
   "cell_type": "code",
   "execution_count": 14,
   "metadata": {},
   "outputs": [
    {
     "data": {
      "text/plain": [
       "tensor([[ 11.3239,   4.9494, -15.8454,  -0.2963, -16.7060,   6.2482],\n",
       "        [  4.9494,  10.2198,  -7.8361,   1.8145, -14.4276,   0.6865],\n",
       "        [-15.8454,  -7.8361,  29.6391,  -4.9008,  30.7838,  -6.4519],\n",
       "        [ -0.2963,   1.8145,  -4.9008,  11.4386,  -4.3933,  -4.3546],\n",
       "        [-16.7060, -14.4276,  30.7838,  -4.3933,  48.5463,  -9.3024],\n",
       "        [  6.2482,   0.6865,  -6.4519,  -4.3546,  -9.3024,   9.6667]])"
      ]
     },
     "execution_count": 14,
     "metadata": {},
     "output_type": "execute_result"
    }
   ],
   "source": [
    "# 6. Умножьте тензор матрично на себя, чтобы результат был размерности 6x6\n",
    "# Подсказка: .dot может не подойти\n",
    "torch.mm(my_tensor, my_tensor.T)"
   ]
  },
  {
   "cell_type": "code",
   "execution_count": 25,
   "metadata": {},
   "outputs": [
    {
     "data": {
      "text/plain": [
       "tensor([ -73.0000,  -36.8750, -140.0000], grad_fn=<SubBackward0>)"
      ]
     },
     "execution_count": 25,
     "metadata": {},
     "output_type": "execute_result"
    }
   ],
   "source": [
    "# 7. Посчитайте производную функции y = x**3 + z - 75t в точке (1, 0.5, 2)\n",
    "\n",
    "x = torch.tensor([1, 0.5, 2], requires_grad=True)\n",
    "y = x ** 3 + x - 75 * x\n",
    "y.backward(x)\n",
    "y"
   ]
  },
  {
   "cell_type": "code",
   "execution_count": 16,
   "metadata": {
    "scrolled": true
   },
   "outputs": [
    {
     "data": {
      "text/plain": [
       "tensor([[1., 1., 1., 1., 1., 1.],\n",
       "        [1., 1., 1., 1., 1., 1.],\n",
       "        [1., 1., 1., 1., 1., 1.],\n",
       "        [1., 1., 1., 1., 1., 1.],\n",
       "        [1., 1., 1., 1., 1., 1.]])"
      ]
     },
     "execution_count": 16,
     "metadata": {},
     "output_type": "execute_result"
    }
   ],
   "source": [
    "# 8. Создайте единичный тензор размера 5x6\n",
    "ones_tensor = torch.FloatTensor(5, 6).fill_(1)\n",
    "ones_tensor"
   ]
  },
  {
   "cell_type": "code",
   "execution_count": 17,
   "metadata": {},
   "outputs": [],
   "source": [
    "# 9. Переведите его в формат numpy"
   ]
  },
  {
   "cell_type": "code",
   "execution_count": 18,
   "metadata": {},
   "outputs": [
    {
     "data": {
      "text/plain": [
       "array([[1., 1., 1., 1., 1., 1.],\n",
       "       [1., 1., 1., 1., 1., 1.],\n",
       "       [1., 1., 1., 1., 1., 1.],\n",
       "       [1., 1., 1., 1., 1., 1.],\n",
       "       [1., 1., 1., 1., 1., 1.]], dtype=float32)"
      ]
     },
     "execution_count": 18,
     "metadata": {},
     "output_type": "execute_result"
    }
   ],
   "source": [
    "ones_tensor.numpy()"
   ]
  }
 ],
 "metadata": {
  "kernelspec": {
   "display_name": "Python 3",
   "language": "python",
   "name": "python3"
  },
  "language_info": {
   "codemirror_mode": {
    "name": "ipython",
    "version": 3
   },
   "file_extension": ".py",
   "mimetype": "text/x-python",
   "name": "python",
   "nbconvert_exporter": "python",
   "pygments_lexer": "ipython3",
   "version": "3.7.6"
  }
 },
 "nbformat": 4,
 "nbformat_minor": 4
}
