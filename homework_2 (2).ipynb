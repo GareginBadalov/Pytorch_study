{
 "cells": [
  {
   "cell_type": "code",
   "execution_count": 1,
   "metadata": {},
   "outputs": [],
   "source": [
    "import torch.nn.functional as F\n",
    "import torchvision.transforms as transforms\n",
    "from torch import optim\n",
    "import matplotlib.pyplot as plt\n",
    "from sklearn.datasets import make_classification\n",
    "import torch\n",
    "import numpy as np\n",
    "import torch.nn.functional as F\n",
    "from torch import nn\n",
    "import torchvision"
   ]
  },
  {
   "cell_type": "code",
   "execution_count": 2,
   "metadata": {
    "colab": {
     "base_uri": "https://localhost:8080/",
     "height": 118,
     "referenced_widgets": [
      "12d5111eacba4b7fbaa1be9a2c6fd5e8",
      "532b0b538d144e9f8cee61da205821dc",
      "49a5c3c309654925a832b23cc093eaf1",
      "e0147a7ac42641a1b530d4172267a5f3",
      "3eeeccd6475f4df2932ead3c35428268",
      "f867f44df781429eaaa2c98ad4ecb0bf",
      "a36a803f80e54c8986833550d63fc123",
      "8e1a2b63ba8f4f44a23a02d5e2b80841",
      "4217b364b3474b68ac8a89241506c4d3",
      "23506035b6bd49f286c04151e9a92a8a",
      "d840d683b6b342a1b7f82c268b45005e"
     ]
    },
    "id": "1ABe6EY5tZ20",
    "outputId": "f4faddf5-7458-4d0a-cfbd-26844e042a76"
   },
   "outputs": [
    {
     "name": "stdout",
     "output_type": "stream",
     "text": [
      "Files already downloaded and verified\n"
     ]
    }
   ],
   "source": [
    "train_dataset = torchvision.datasets.CIFAR10(root='data/',\n",
    "                                             train=True,  \n",
    "                                             transform=transforms.ToTensor(), \n",
    "                                             download=True)"
   ]
  },
  {
   "cell_type": "code",
   "execution_count": 3,
   "metadata": {
    "id": "dzocRyIKtZ22"
   },
   "outputs": [],
   "source": [
    "train_loader = torch.utils.data.DataLoader(dataset=train_dataset,\n",
    "                                           batch_size=10, \n",
    "                                           shuffle=True)"
   ]
  },
  {
   "cell_type": "code",
   "execution_count": 4,
   "metadata": {
    "colab": {
     "base_uri": "https://localhost:8080/"
    },
    "id": "K1XeQ1aPtZ23",
    "outputId": "8d468146-6acf-41d7-e4d3-4bcc0a422719"
   },
   "outputs": [
    {
     "name": "stdout",
     "output_type": "stream",
     "text": [
      "Files already downloaded and verified\n"
     ]
    }
   ],
   "source": [
    "test_dataset = torchvision.datasets.CIFAR10(root='./data', train=False,\n",
    "                                            download=True, transform=transforms.ToTensor())\n",
    "test_loader = torch.utils.data.DataLoader(test_dataset, batch_size=8,\n",
    "                                          shuffle=False)"
   ]
  },
  {
   "cell_type": "code",
   "execution_count": 5,
   "metadata": {
    "id": "oFYrzU1NtZ24"
   },
   "outputs": [],
   "source": [
    "classes = ('plane', 'car', 'bird', 'cat',\n",
    "           'deer', 'dog', 'frog', 'horse', 'ship', 'truck')"
   ]
  },
  {
   "cell_type": "code",
   "execution_count": 6,
   "metadata": {
    "colab": {
     "base_uri": "https://localhost:8080/"
    },
    "id": "8wS-xS37tZ26",
    "outputId": "8551e8d3-8142-4d05-9e5b-b4e7523d8cd0"
   },
   "outputs": [
    {
     "data": {
      "text/plain": [
       "Net(\n",
       "  (conv1): Conv2d(3, 6, kernel_size=(5, 5), stride=(1, 1))\n",
       "  (conv2): Conv2d(6, 16, kernel_size=(5, 5), stride=(1, 1))\n",
       "  (pool): MaxPool2d(kernel_size=2, stride=2, padding=0, dilation=1, ceil_mode=False)\n",
       "  (fc1): Linear(in_features=400, out_features=120, bias=True)\n",
       "  (fc2): Linear(in_features=120, out_features=84, bias=True)\n",
       "  (fc3): Linear(in_features=84, out_features=10, bias=True)\n",
       ")"
      ]
     },
     "execution_count": 6,
     "metadata": {},
     "output_type": "execute_result"
    }
   ],
   "source": [
    "import torch.nn.functional as F\n",
    "\n",
    "\n",
    "class Net(nn.Module):\n",
    "    def __init__(self):\n",
    "        super().__init__()\n",
    "        self.conv1 = nn.Conv2d(3, 6, 5)  # in, out, k, (s=1)\n",
    "        self.conv2 = nn.Conv2d(6, 16, 5)\n",
    "        self.pool = nn.MaxPool2d(2, stride=2) \n",
    "        self.fc1 = nn.Linear(16 * 5 * 5, 120)  # 400-120-84-10\n",
    "        self.fc2 = nn.Linear(120, 84)\n",
    "        self.fc3 = nn.Linear(84, 10) \n",
    "\n",
    "    def forward(self, x):\n",
    "        z = nn.functional.relu(self.conv1(x))  \n",
    "        z = self.pool(z)                         \n",
    "        z = nn.functional.relu(self.conv2(z))  \n",
    "        z = self.pool(z)                         \n",
    "        z = z.reshape(-1, 16 * 5 * 5)            \n",
    "        z = nn.functional.relu(self.fc1(z))\n",
    "        z = nn.functional.relu(self.fc2(z))\n",
    "        z = F.softmax(self.fc3(z), dim=1)    \n",
    "        return z\n",
    "\n",
    "    \n",
    "    def predict(self, x):\n",
    "        x = x.view(x.shape[0], -1)\n",
    "        x = self.fc1(x)\n",
    "        x = F.leaky_relu(x)\n",
    "        x = self.fc2(x)\n",
    "        x = F.leaky_relu(x)\n",
    "        x = self.fc3(x)\n",
    "        x = F.leaky_relu(x)\n",
    "        x = self.fc4(x)\n",
    "        x = F.leaky_relu(x)\n",
    "        x = self.fc5(x)\n",
    "        x = F.softmax(x)\n",
    "        return x\n",
    "\n",
    "\n",
    "net = Net()\n",
    "net.train()"
   ]
  },
  {
   "cell_type": "code",
   "execution_count": 7,
   "metadata": {
    "colab": {
     "base_uri": "https://localhost:8080/"
    },
    "id": "Gdc_JriftZ25",
    "outputId": "78c2b60e-f66c-4dd2-d99c-ac28cd606fb4"
   },
   "outputs": [],
   "source": [
    "SGD = optim.SGD(net.parameters(), lr=0.01, momentum=0.0)\n",
    "adagard = optim.Adagrad(net.parameters(), lr=0.1)"
   ]
  },
  {
   "cell_type": "code",
   "execution_count": 8,
   "metadata": {
    "id": "cps8zpkctZ26"
   },
   "outputs": [],
   "source": [
    "criterion = nn.CrossEntropyLoss()\n",
    "optimizer = optim.SGD(net.parameters(), lr=0.015, momentum=0.0)"
   ]
  },
  {
   "cell_type": "code",
   "execution_count": 9,
   "metadata": {
    "colab": {
     "base_uri": "https://localhost:8080/"
    },
    "id": "5fKNYUqetZ27",
    "outputId": "e7930466-b230-48bc-fba8-28b3e06520ac"
   },
   "outputs": [
    {
     "name": "stdout",
     "output_type": "stream",
     "text": [
      "Epoch [1/6]. Step [1/5000]. Loss: 0.230\n",
      "Epoch [2/6]. Step [1/5000]. Loss: 0.230\n",
      "Epoch [3/6]. Step [1/5000]. Loss: 0.230\n",
      "Epoch [4/6]. Step [1/5000]. Loss: 0.221\n",
      "Epoch [5/6]. Step [1/5000]. Loss: 0.233\n",
      "Epoch [6/6]. Step [1/5000]. Loss: 0.212\n",
      "Training is finished!\n"
     ]
    }
   ],
   "source": [
    "num_epochs = 6\n",
    "\n",
    "for epoch in range(num_epochs):\n",
    "    running_loss = 0.0\n",
    "    running_items = 0.0\n",
    "\n",
    "\n",
    "    for i, data in enumerate(train_loader):\n",
    "        inputs, labels = data[0], data[1]\n",
    "\n",
    "         # Обнуляем градиент\n",
    "        optimizer.zero_grad()\n",
    "        # Делаем предсказание\n",
    "        outputs = net(inputs)\n",
    "        # Рассчитываем лосс-функцию\n",
    "        loss = criterion(outputs, labels)\n",
    "        # Делаем шаг назад по лоссу\n",
    "        loss.backward()\n",
    "        # Делаем шаг нашего оптимайзера\n",
    "        optimizer.step()\n",
    "\n",
    "        # выводим статистику о процессе обучения\n",
    "        running_loss += loss.item()\n",
    "        running_items += len(labels)\n",
    "        if i % 5000 == 0:    # печатаем каждые 300 mini-batches\n",
    "            print(f'Epoch [{epoch + 1}/{num_epochs}]. ' \\\n",
    "                  f'Step [{i + 1}/{len(train_loader)}]. ' \\\n",
    "                  f'Loss: {running_loss / running_items:.3f}')\n",
    "            running_loss, running_items = 0.0, 0.0\n",
    "\n",
    "print('Training is finished!')"
   ]
  },
  {
   "cell_type": "code",
   "execution_count": 10,
   "metadata": {
    "id": "bnItAZIgAhht"
   },
   "outputs": [],
   "source": [
    "data_iter = iter(test_loader)\n",
    "images, labels = data_iter.next()"
   ]
  },
  {
   "cell_type": "code",
   "execution_count": 11,
   "metadata": {
    "colab": {
     "base_uri": "https://localhost:8080/",
     "height": 141
    },
    "id": "xaZVP7lWAhhu",
    "outputId": "004982fa-23a0-4d1c-aa0d-0c5ae1f78007"
   },
   "outputs": [
    {
     "name": "stdout",
     "output_type": "stream",
     "text": [
      "GroundTruth:  cat ship ship plane frog frog car frog\n"
     ]
    },
    {
     "data": {
      "image/png": "[encoded data removed]",
      "text/plain": [
       "<Figure size 720x360 with 1 Axes>"
      ]
     },
     "metadata": {
      "needs_background": "light"
     },
     "output_type": "display_data"
    }
   ],
   "source": [
    "net.eval()\n",
    "outputs = net(images)\n",
    "imgs = torchvision.utils.make_grid(images)\n",
    "plt.figure(figsize=(10, 5))\n",
    "plt.imshow(imgs.permute(1, 2, 0).numpy())\n",
    "print('GroundTruth: ', ' '.join(classes[labels[j]] for j in range(len(labels))))"
   ]
  },
  {
   "cell_type": "code",
   "execution_count": 12,
   "metadata": {
    "colab": {
     "base_uri": "https://localhost:8080/"
    },
    "id": "OK5qzXeCAhhv",
    "outputId": "ab50cad2-9039-4808-9944-c8d43e146f05"
   },
   "outputs": [
    {
     "name": "stdout",
     "output_type": "stream",
     "text": [
      "tensor([[2.5719e-04, 6.6525e-02, 9.9830e-03, 8.9065e-01, 3.6217e-04, 1.5131e-02,\n",
      "         1.1951e-02, 3.8678e-06, 4.4848e-03, 6.4924e-04],\n",
      "        [3.3079e-06, 1.0004e-03, 2.1168e-08, 1.1942e-08, 1.1028e-11, 8.0554e-10,\n",
      "         3.5057e-12, 3.2671e-13, 9.9898e-01, 1.7753e-05],\n",
      "        [7.4496e-05, 2.5559e-01, 3.7299e-06, 7.3659e-05, 1.4462e-09, 3.2407e-06,\n",
      "         7.7851e-09, 5.4274e-10, 7.3798e-01, 6.2674e-03],\n",
      "        [7.2703e-01, 1.3339e-03, 1.7971e-04, 1.3211e-06, 4.7892e-07, 1.5931e-07,\n",
      "         1.4790e-10, 1.1738e-09, 2.7145e-01, 4.8772e-07],\n",
      "        [2.6298e-07, 4.2319e-07, 3.6786e-03, 8.0854e-04, 9.3743e-01, 3.4517e-04,\n",
      "         5.7124e-02, 6.1659e-04, 3.6508e-07, 1.1941e-07],\n",
      "        [1.5124e-10, 1.2191e-04, 9.9744e-07, 6.6709e-05, 1.5799e-04, 2.4436e-06,\n",
      "         9.9964e-01, 2.1303e-07, 5.3718e-08, 8.8516e-06],\n",
      "        [7.2035e-08, 2.1990e-01, 1.2345e-05, 6.9457e-01, 3.1367e-08, 5.2616e-02,\n",
      "         9.1727e-04, 7.7925e-06, 3.1011e-05, 3.1938e-02],\n",
      "        [1.5883e-09, 3.1992e-07, 6.9411e-05, 3.9178e-05, 6.4199e-02, 4.8780e-06,\n",
      "         9.3566e-01, 2.2617e-05, 3.1058e-08, 1.2806e-07]],\n",
      "       grad_fn=<SoftmaxBackward0>)\n"
     ]
    }
   ],
   "source": [
    "print(outputs)"
   ]
  },
  {
   "cell_type": "code",
   "execution_count": 13,
   "metadata": {
    "colab": {
     "base_uri": "https://localhost:8080/"
    },
    "id": "VF-ezeboAhhv",
    "outputId": "15529ee4-5284-4f8e-a591-0b78615f2506"
   },
   "outputs": [
    {
     "data": {
      "text/plain": [
       "tensor([3, 8, 8, 0, 4, 6, 3, 6])"
      ]
     },
     "execution_count": 13,
     "metadata": {},
     "output_type": "execute_result"
    }
   ],
   "source": [
    "_, predicted = torch.max(outputs, 1)\n",
    "\n",
    "predicted"
   ]
  },
  {
   "cell_type": "code",
   "execution_count": 14,
   "metadata": {
    "colab": {
     "base_uri": "https://localhost:8080/"
    },
    "id": "Vd6w5xrvHP-O",
    "outputId": "12b21bbd-b1c4-4cd2-f623-609458e87bef"
   },
   "outputs": [
    {
     "name": "stdout",
     "output_type": "stream",
     "text": [
      "Predicted:  cat ship ship plane deer frog cat frog\n"
     ]
    }
   ],
   "source": [
    "print('Predicted: ', ' '.join(classes[predicted[j]] for j in range(len(labels))))"
   ]
  },
  {
   "cell_type": "code",
   "execution_count": 15,
   "metadata": {
    "colab": {
     "base_uri": "https://localhost:8080/"
    },
    "id": "oxPcScN3ROv2",
    "outputId": "dfb4c3af-13b7-4bb6-a2f5-3d262ccc8ae2"
   },
   "outputs": [
    {
     "name": "stdout",
     "output_type": "stream",
     "text": [
      "['cat' 'ship' 'ship' 'plane' 'frog' 'frog' 'car' 'frog']\n",
      "['cat' 'ship' 'ship' 'plane' 'deer' 'frog' 'cat' 'frog']\n",
      "Accuracy is 0.75\n"
     ]
    }
   ],
   "source": [
    "gt = np.array([classes[labels[j]] for j in range(len(labels))])\n",
    "pred = np.array([classes[predicted[j]] for j in range(len(labels))])\n",
    "\n",
    "print(gt)\n",
    "print(pred)\n",
    "print(f'Accuracy is {(gt == pred).sum() / len(gt)}')"
   ]
  },
  {
   "cell_type": "markdown",
   "metadata": {},
   "source": [
    "### Много разных параметров перепробовал, вручную подставлял, так удобнее и нагляднее. Из-за того, что очень много времени просидел, есть ощущение, что просто повезло, хоть я и пришел к таким слоям с помощью гугла, а learning rate и num_epochs долго и упорно подбирал."
   ]
  }
 ],
 "metadata": {
  "kernelspec": {
   "display_name": "Python 3",
   "language": "python",
   "name": "python3"
  },
  "language_info": {
   "codemirror_mode": {
    "name": "ipython",
    "version": 3
   },
   "file_extension": ".py",
   "mimetype": "text/x-python",
   "name": "python",
   "nbconvert_exporter": "python",
   "pygments_lexer": "ipython3",
   "version": "3.7.6"
  }
 },
 "nbformat": 4,
 "nbformat_minor": 4
}
